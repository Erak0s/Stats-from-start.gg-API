{
 "cells": [
  {
   "cell_type": "code",
   "execution_count": 1,
   "metadata": {},
   "outputs": [],
   "source": [
    "from functions import *\n",
    "from variables import *\n",
    "from datetime import *\n",
    "\n",
    "###################################################\n",
    "###           PARAMETRES DES REQUETES          ####\n",
    "###################################################\n",
    "\n",
    "# $cCode pour chercher par pays\n",
    "# $distance pour chercher dans un rayon autour de $city\n",
    "# $name pour chercher par nom\n",
    "# $gameId pour filtrer par jeu\n",
    "# $slug pour filtrer par \"slug\" (la partie à la fin du lien start.gg)\n",
    "  # Par exemple dans le lien \"https://www.start.gg/tournament/genesis-8/details\", le slug est \"tournament/genesis-8\" ou juste \"genesis-8\"\n",
    "# $after et $before pour chercher les évènements à garder avant ou après une certaine date\n",
    "  # today pour aujourd'hui, get_date(jour,mois,année) pour une autre date\n",
    "# $page et $perPage pour paginer les évènements\n",
    "\n",
    "params_get_events={\n",
    "  \"cCode\": \"FR\", \n",
    "  \"distance\": \"10km\", \n",
    "  \"city\": ville_coord[\"Montpellier\"],\n",
    "  # \"name\": \"Downtown\", \n",
    "  \"gameId\": game_Ids[\"Super Smash Bros. Ultimate\"],\n",
    "  # \"slug\": \"yggdrasil-1-1\",\n",
    "  # \"after\": today,\n",
    "  \"after\": get_date(1,1,2024),\n",
    "  \"before\":  get_date(30,6,2024),\n",
    "  \"before\": today,\n",
    "  \"perPage\": 500, \n",
    "  \"page\": 1\n",
    "}\n",
    "\n",
    "params_standings_seedings={\n",
    "  # \"eventId\": 1033454,\n",
    "  \"perPage\": 50,\n",
    "  \"page\": 1\n",
    "}\n"
   ]
  },
  {
   "cell_type": "code",
   "execution_count": 2,
   "metadata": {},
   "outputs": [],
   "source": [
    "\n",
    "##################################################################\n",
    "###           RECUPERATION DES EVENEMENTS A ANALYSER          ####\n",
    "##################################################################\n",
    " \n",
    "singles = get_singles_id(params_get_events, url, headers)\n",
    "# singles=tournois_sauf_flamingoat\n",
    "# singles=misstechs\n"
   ]
  },
  {
   "cell_type": "code",
   "execution_count": 3,
   "metadata": {},
   "outputs": [
    {
     "data": {
      "text/plain": [
       "{1165973: 'Smash Downtown #33 - Smash à Lez x Burnout',\n",
       " 1165971: 'The Roll’Inn#26',\n",
       " 1165969: \"Miss'Tech#60\",\n",
       " 1161681: 'The Roll’Inn#25',\n",
       " 1131369: 'Yggdrasil #3',\n",
       " 1157577: 'Smash Downtown #32 - Smash à Lez x Burnout',\n",
       " 1157571: 'The Roll’Inn#24',\n",
       " 1157569: \"Miss'Tech#59\",\n",
       " 1153371: 'The Roll’Inn#23',\n",
       " 1153370: \"Miss'Tech#58\",\n",
       " 1148869: 'Smash Downtown #31 - Smash à Lez x Burnout',\n",
       " 1148861: 'The Roll’Inn#22',\n",
       " 1148859: \"Miss'Tech#57\",\n",
       " 1144715: \"The Roll'Inn #21\",\n",
       " 1145349: \"Miss'Tech#56\",\n",
       " 1140939: 'Smash Downtown #30 - Smash à Lez x Burnout',\n",
       " 1136292: \"Miss'Tech#55\",\n",
       " 1131257: 'Smash Downtown #29 - Smash à Lez x Burnout',\n",
       " 1131253: \"Miss'Tech#54\",\n",
       " 1092534: \"The Flamin'Goat #6 - Smash à Lez x MES Esport\",\n",
       " 1126771: \"Miss'Tech#53\",\n",
       " 1121814: 'Smash Downtown #28 - Smash à Lez x Burnout',\n",
       " 1121808: \"Miss'Tech#52\",\n",
       " 1117094: \"Miss'Tech#51\",\n",
       " 1111736: 'Smash Downtown #27 - Smash à Lez x Burnout',\n",
       " 1111734: \"Miss'Tech#50\",\n",
       " 1107026: \"Miss'Tech#49\",\n",
       " 1102045: 'Smash Downtown #26 - Smash à Lez x Burnout',\n",
       " 1102044: \"Miss'Tech#48\",\n",
       " 1097122: \"Miss'Tech#47\",\n",
       " 1092530: 'Smash Downtown #25 - Smash à Lez x Burnout',\n",
       " 1062669: 'Yggdrasil #2',\n",
       " 1087200: 'The Roll’Inn#20',\n",
       " 1083783: \"Miss'Tech#46\",\n",
       " 1083010: 'Smash Downtown #24 - Smash à Lez x Meltdown',\n",
       " 1083015: \"Miss'Tech#45\",\n",
       " 1077693: 'The Roll’Inn#19',\n",
       " 1061875: \"The Flamin'Goat #5 - Smash à Lez x MES Esport\",\n",
       " 1077692: \"Miss'Tech#44\",\n",
       " 1072728: 'Smash Downtown #23 - Smash à Lez x Meltdown',\n",
       " 1072727: \"Miss'Tech#43\",\n",
       " 1067606: 'The Roll’Inn#18',\n",
       " 1067469: \"Miss'Tech#42\",\n",
       " 1062892: 'Smash Downtown #22 - Smash à Lez x Meltdown',\n",
       " 1062896: \"Miss'Tech#41\",\n",
       " 1057977: 'The Roll’Inn#17',\n",
       " 1057980: \"Miss'Tech#40\",\n",
       " 1053451: 'Smash Downtown #21 - Smash à Lez x Meltdown',\n",
       " 1053645: \"Miss'Tech#39\",\n",
       " 1049782: 'The Roll’Inn#16',\n",
       " 1040165: \"The Flamin'Goat #4 - Smash à Lez x MES Esport\",\n",
       " 1048451: \"Miss'Tech#38\"}"
      ]
     },
     "execution_count": 3,
     "metadata": {},
     "output_type": "execute_result"
    }
   ],
   "source": [
    "singles"
   ]
  },
  {
   "cell_type": "code",
   "execution_count": 4,
   "metadata": {},
   "outputs": [],
   "source": [
    "test = {1165969: \"MissTech #60\"}"
   ]
  },
  {
   "cell_type": "code",
   "execution_count": 5,
   "metadata": {},
   "outputs": [
    {
     "name": "stdout",
     "output_type": "stream",
     "text": [
      "Top 64 seeds in MissTech #60 :\n",
      "1: CTS | Goison\n",
      "2: CTS | Mephy\n",
      "3: KSO | Bizaute\n",
      "4: NdL | Threllox\n",
      "5: KSO LTH | Zelume\n",
      "6: OX | | Freesbi\n",
      "7: KSO | Enzale\n",
      "8: Tyzoute\n",
      "9: MayKer\n",
      "10: USM | DGDF | Zone-Onze\n",
      "11: Her | ilix\n",
      "12: Her | Poade\n",
      "13: KSO | J.Awadi\n",
      "14: USM | Fire ninja\n",
      "15: KSO | Emitchoum\n",
      "\n",
      "\n",
      "None\n"
     ]
    }
   ],
   "source": [
    "\n",
    "####################################\n",
    "###           ANALYSES          ####\n",
    "####################################\n",
    "\n",
    "# print_tournaments(singles)\n",
    "# taille_commu(5,singles,params_standings_seedings,url,headers)\n",
    "# best_performances(20,singles,params_standings_seedings,url,headers)\n",
    "# worst_performances(20,singles,params_standings_seedings,url,headers)\n",
    "# most_regu(10,singles,params_standings_seedings,url,headers)\n",
    "# least_regu(50,5,singles,params_standings_seedings,url,headers)\n",
    "# surseed_sousseed(20,5,singles,params_standings_seedings,url,headers)\n",
    "# print(least_regu(20,10,singles,params_standings_seedings,url,headers))\n",
    "top_seed(64,test,params_standings_seedings,url,headers)\n",
    "# top_standings(16,singles,params_standings_seedings,url,headers)\n",
    "# results = get_results(singles,params_standings_seedings,url,headers)\n",
    "# max_tournois(50,singles,params_standings_seedings,url,headers)\n",
    "# max_top_x(30,8,singles,params_standings_seedings,url,headers)\n",
    "# affrontements_freq(50,singles,params_standings_seedings,url,headers)\n",
    "# bracket_demon(100,5,singles,params_standings_seedings,url,headers)\n",
    "\n",
    "\n",
    "# count_sets(singles,params_standings_seedings,url,headers)\n",
    "# count_games(singles,params_standings_seedings,url,headers)\n",
    "# get_setcount_players('Erakos','Ewanz',singles,params_standings_seedings,url,headers)\n",
    "# get_setcount_prefix(\"BaL\",\"NdL\", singles, params_standings_seedings, url, headers)\n",
    "# max_character_usage(500,singles,params_standings_seedings,url,headers)\n",
    "# min_character_usage(500,singles,params_standings_seedings,url,headers)\n",
    "# max_character_usage_rate(50,singles,params_standings_seedings,url,headers)\n",
    "# min_character_usage_rate(50,singles,params_standings_seedings,url,headers)\n",
    "# upsets=(get_upsets(singles,params_standings_seedings,url,headers))\n",
    "# for i in upsets:\n",
    "#     for j in range(len(i)):\n",
    "#         print(i[j])\n",
    "# count_upsets(singles,params_standings_seedings,url,headers, False)\n",
    "# print(biggest_upsets(20,test,params_standings_seedings,url,headers))\n",
    "# max_upsets_realises(20,singles,params_standings_seedings,url,headers)\n",
    "# max_upsets_subis(20,singles,params_standings_seedings,url,headers)\n",
    "# max_upsets_subis_par_defaite(20,singles,params_standings_seedings,url,headers)\n",
    "# min_upsets_subis(500,singles,params_standings_seedings,url,headers)\n",
    "\n",
    "# placements=get_player_placement(\"El Tépe\",singles,params_standings_seedings,url,headers)\n",
    "# n=0\n",
    "# for event in placements:\n",
    "#   if placements[event] == 9:\n",
    "#     n+=1\n",
    "# print(\"El Tépe a fini 9ème\",n,\"fois en\", len(placements),\"participations (\",(n/len(placements))*100,\"%)\")"
   ]
  },
  {
   "cell_type": "code",
   "execution_count": 6,
   "metadata": {},
   "outputs": [
    {
     "data": {
      "text/plain": [
       "[]"
      ]
     },
     "execution_count": 6,
     "metadata": {},
     "output_type": "execute_result"
    }
   ],
   "source": [
    "get_upsets2(test, params_standings_seedings, url, headers)"
   ]
  }
 ],
 "metadata": {
  "kernelspec": {
   "display_name": "Python 3",
   "language": "python",
   "name": "python3"
  },
  "language_info": {
   "codemirror_mode": {
    "name": "ipython",
    "version": 3
   },
   "file_extension": ".py",
   "mimetype": "text/x-python",
   "name": "python",
   "nbconvert_exporter": "python",
   "pygments_lexer": "ipython3",
   "version": "3.12.3"
  },
  "orig_nbformat": 4,
  "vscode": {
   "interpreter": {
    "hash": "be4072d575eed7a07c783e8a323bc1238403c94952087eed84a217d71cd09d2a"
   }
  }
 },
 "nbformat": 4,
 "nbformat_minor": 2
}
