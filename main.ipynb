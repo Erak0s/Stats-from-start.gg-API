{
 "cells": [
  {
   "cell_type": "code",
   "execution_count": 1,
   "metadata": {},
   "outputs": [],
   "source": [
    "from functions import *\n",
    "from variables import *\n",
    "from datetime import *\n",
    "import pickle\n",
    "import os\n",
    "\n",
    "###################################################\n",
    "###           PARAMETRES DES REQUETES          ####\n",
    "###################################################\n",
    "\n",
    "# $cCode pour chercher par pays\n",
    "# $distance pour chercher dans un rayon autour de $city\n",
    "# $name pour chercher par nom\n",
    "# $gameId pour filtrer par jeu\n",
    "# $slug pour filtrer par \"slug\" (la partie à la fin du lien start.gg)\n",
    "  # Par exemple dans le lien \"https://www.start.gg/tournament/genesis-8/details\", le slug est \"tournament/genesis-8\" ou juste \"genesis-8\"\n",
    "# $after et $before pour chercher les évènements à garder avant ou après une certaine date\n",
    "  # today pour aujourd'hui, get_date(jour,mois,année) pour une autre date\n",
    "# $page et $perPage pour paginer les évènements\n",
    "\n",
    "params_get_events={\n",
    "  \"cCode\": \"FR\", \n",
    "  \"distance\": \"10km\", \n",
    "  \"city\": ville_coord[\"Montpellier\"],\n",
    "  # \"name\": \"Flamin\", \n",
    "  \"gameId\": game_Ids[\"Super Smash Bros. Ultimate\"],\n",
    "  # \"slug\": \"yggdrasil-1-1\",\n",
    "  # \"after\": today,\n",
    "  \"after\": get_date(1,7,2024),\n",
    "  # \"before\":  get_date(2,7,2024),\n",
    "  \"before\": today,\n",
    "  \"perPage\": 500,\n",
    "  \"page\": 1\n",
    "}"
   ]
  },
  {
   "cell_type": "code",
   "execution_count": 2,
   "metadata": {},
   "outputs": [],
   "source": [
    "\n",
    "##################################################################\n",
    "###           RECUPERATION DES EVENEMENTS A ANALYSER          ####\n",
    "##################################################################\n",
    " \n",
    "singles = get_singles_id(params_get_events, url, headers)"
   ]
  },
  {
   "cell_type": "code",
   "execution_count": 3,
   "metadata": {},
   "outputs": [
    {
     "data": {
      "text/plain": [
       "{1277101: 'Smash Downtown #51 - Smash à Lez x Burnout',\n",
       " 1272908: 'Smash Downtown #50 - Smash à Lez x Burnout',\n",
       " 1272912: \"Miss'Tech #73\",\n",
       " 1268555: 'Smash Downtown #49 - Smash à Lez x Burnout',\n",
       " 1268554: \"Miss'Tech #72\",\n",
       " 1264362: 'Smash Downtown #48 - Smash à Lez x Burnout',\n",
       " 1259510: \"Miss'Tech#71\",\n",
       " 1254615: 'Smash Downtown #47 - Smash à Lez x Burnout',\n",
       " 1254613: \"Miss'Tech#70\",\n",
       " 1250211: 'Smash Downtown #46 - Smash à Lez x Burnout',\n",
       " 1224421: 'Yggdrasil #3.5',\n",
       " 1239231: 'Smash Downtown #45 - Smash à Lez x Burnout',\n",
       " 1239224: \"Miss'Tech#69\",\n",
       " 1234253: 'Smash Downtown #44 - Smash à Lez x Burnout',\n",
       " 1214099: \"The Flamin'Goat #7 - Smash à Lez x MES Esport\",\n",
       " 1234245: \"Miss'Tech#68\",\n",
       " 1229169: 'Smash Downtown #43 - Smash à Lez x Burnout',\n",
       " 1223823: 'Smash Downtown #42 - Smash à Lez x Burnout',\n",
       " 1223819: \"Miss'Tech#66\",\n",
       " 1218160: 'Smash Downtown #41 - Smash à Lez x Burnout',\n",
       " 1217137: \"Miss'Tech#65\",\n",
       " 1214106: 'Smash Downtown #40 - Smash à Lez x Burnout',\n",
       " 1208892: 'Smash Downtown #39 - Smash à Lez x Burnout',\n",
       " 1204128: 'Smash Downtown #38 - Smash à Lez x Burnout',\n",
       " 1199830: 'Smash Downtown #37 - Smash à Lez x Burnout',\n",
       " 1191113: 'Smash Downtown #36 - Smash à Lez x Burnout',\n",
       " 1181386: 'Smash Downtown #35 - Smash à Lez x Burnout',\n",
       " 1181385: \"Miss'Tech#64\",\n",
       " 1178101: \"Miss'Tech#63\",\n",
       " 1174081: 'Smash Downtown #34 - Smash à Lez x Burnout',\n",
       " 1174078: 'The Roll’Inn#28',\n",
       " 1174077: \"Miss'Tech#62\",\n",
       " 1170152: \"Miss'Tech#61\",\n",
       " 1165973: 'Smash Downtown #33 - Smash à Lez x Burnout'}"
      ]
     },
     "execution_count": 3,
     "metadata": {},
     "output_type": "execute_result"
    }
   ],
   "source": [
    "singles"
   ]
  },
  {
   "cell_type": "code",
   "execution_count": 4,
   "metadata": {},
   "outputs": [
    {
     "name": "stdout",
     "output_type": "stream",
     "text": [
      "Tournament Smash Downtown #51 - Smash à Lez x Burnout already added\n",
      "Tournament Smash Downtown #50 - Smash à Lez x Burnout already added\n",
      "Tournament Miss'Tech #73 already added\n",
      "Tournament Smash Downtown #49 - Smash à Lez x Burnout already added\n",
      "Tournament Miss'Tech #72 already added\n",
      "Tournament Smash Downtown #48 - Smash à Lez x Burnout already added\n",
      "Tournament Miss'Tech#71 already added\n",
      "Tournament Smash Downtown #47 - Smash à Lez x Burnout already added\n",
      "Tournament Miss'Tech#70 already added\n",
      "Tournament Smash Downtown #46 - Smash à Lez x Burnout already added\n",
      "Tournament Yggdrasil #3.5 already added\n",
      "Tournament Smash Downtown #45 - Smash à Lez x Burnout already added\n",
      "Tournament Miss'Tech#69 already added\n",
      "Tournament Smash Downtown #44 - Smash à Lez x Burnout already added\n",
      "Tournament The Flamin'Goat #7 - Smash à Lez x MES Esport already added\n",
      "Tournament Miss'Tech#68 already added\n",
      "Tournament Smash Downtown #43 - Smash à Lez x Burnout already added\n",
      "Tournament Smash Downtown #42 - Smash à Lez x Burnout already added\n",
      "Tournament Miss'Tech#66 already added\n",
      "Tournament Smash Downtown #41 - Smash à Lez x Burnout already added\n",
      "Tournament Miss'Tech#65 already added\n",
      "Tournament Smash Downtown #40 - Smash à Lez x Burnout already added\n",
      "Tournament Smash Downtown #39 - Smash à Lez x Burnout already added\n",
      "Tournament Smash Downtown #38 - Smash à Lez x Burnout already added\n",
      "Tournament Smash Downtown #37 - Smash à Lez x Burnout already added\n",
      "Tournament Smash Downtown #36 - Smash à Lez x Burnout already added\n",
      "Tournament Smash Downtown #35 - Smash à Lez x Burnout already added\n",
      "Tournament Miss'Tech#64 already added\n",
      "Tournament Miss'Tech#63 already added\n",
      "Tournament Smash Downtown #34 - Smash à Lez x Burnout already added\n",
      "Tournament The Roll’Inn#28 already added\n",
      "Tournament Miss'Tech#62 already added\n",
      "Tournament Miss'Tech#61 already added\n",
      "Tournament Smash Downtown #33 - Smash à Lez x Burnout already added\n"
     ]
    }
   ],
   "source": [
    "# Add selected events to database\n",
    "\n",
    "add_all_tournaments('./tournament data/tournament_data 2024 S2.pkl', singles, url, headers)"
   ]
  },
  {
   "cell_type": "code",
   "execution_count": 5,
   "metadata": {},
   "outputs": [],
   "source": [
    "with open('./tournament data/tournament_data 2024 S2.pkl', 'rb') as f:\n",
    "    tournament_data = pickle.load(f)"
   ]
  },
  {
   "cell_type": "code",
   "execution_count": 87,
   "metadata": {},
   "outputs": [
    {
     "name": "stdout",
     "output_type": "stream",
     "text": [
      "Winner non-renseigné pour le match: 1191113 set: {'id': 78287210, 'winnerId': None, 'displayScore': None, 'slots': [{'id': '78287210-0', 'entrant': {'id': 17450007, 'name': 'AESE | Honyoru'}}, {'id': '78287210-1', 'entrant': {'id': 17411554, 'name': 'CTS | Erakos'}}], 'games': None}\n",
      "Winner non-renseigné pour le match: 1191113 set: {'id': 78287210, 'winnerId': None, 'displayScore': None, 'slots': [{'id': '78287210-0', 'entrant': {'id': 17450007, 'name': 'AESE | Honyoru'}}, {'id': '78287210-1', 'entrant': {'id': 17411554, 'name': 'CTS | Erakos'}}], 'games': None}\n",
      "Winner non-renseigné pour le match: 1191113 set: {'id': 78286955, 'winnerId': None, 'displayScore': None, 'slots': [{'id': '78286955-0', 'entrant': {'id': 17411621, 'name': 'Geurudo'}}, {'id': '78286955-1', 'entrant': None}], 'games': None}\n",
      "Winner non-renseigné pour le match: 1191113 set: {'id': 78286955, 'winnerId': None, 'displayScore': None, 'slots': [{'id': '78286955-0', 'entrant': {'id': 17411621, 'name': 'Geurudo'}}, {'id': '78286955-1', 'entrant': None}], 'games': None}\n",
      "Winner non-renseigné pour le match: 1191113 set: {'id': 78286956, 'winnerId': None, 'displayScore': None, 'slots': [{'id': '78286956-0', 'entrant': None}, {'id': '78286956-1', 'entrant': None}], 'games': None}\n",
      "Winner non-renseigné pour le match: 1191113 set: {'id': 78286956, 'winnerId': None, 'displayScore': None, 'slots': [{'id': '78286956-0', 'entrant': None}, {'id': '78286956-1', 'entrant': None}], 'games': None}\n",
      "Winner non-renseigné pour le match: 1170152 set: {'id': 'preview_2531865_-3_0', 'winnerId': None, 'displayScore': None, 'slots': [{'id': 'preview_2531865_-3_0-0', 'entrant': None}, {'id': 'preview_2531865_-3_0-1', 'entrant': None}], 'games': None}\n",
      "Winner non-renseigné pour le match: 1170152 set: {'id': 'preview_2531865_-3_0', 'winnerId': None, 'displayScore': None, 'slots': [{'id': 'preview_2531865_-3_0-0', 'entrant': None}, {'id': 'preview_2531865_-3_0-1', 'entrant': None}], 'games': None}\n",
      "Winner non-renseigné pour le match: 1170152 set: {'id': 'preview_2531865_-3_1', 'winnerId': None, 'displayScore': None, 'slots': [{'id': 'preview_2531865_-3_1-0', 'entrant': None}, {'id': 'preview_2531865_-3_1-1', 'entrant': None}], 'games': None}\n",
      "Winner non-renseigné pour le match: 1170152 set: {'id': 'preview_2531865_-3_1', 'winnerId': None, 'displayScore': None, 'slots': [{'id': 'preview_2531865_-3_1-0', 'entrant': None}, {'id': 'preview_2531865_-3_1-1', 'entrant': None}], 'games': None}\n",
      "Winner non-renseigné pour le match: 1170152 set: {'id': 'preview_2531865_-4_0', 'winnerId': None, 'displayScore': None, 'slots': [{'id': 'preview_2531865_-4_0-0', 'entrant': None}, {'id': 'preview_2531865_-4_0-1', 'entrant': None}], 'games': None}\n",
      "Winner non-renseigné pour le match: 1170152 set: {'id': 'preview_2531865_-4_0', 'winnerId': None, 'displayScore': None, 'slots': [{'id': 'preview_2531865_-4_0-0', 'entrant': None}, {'id': 'preview_2531865_-4_0-1', 'entrant': None}], 'games': None}\n",
      "Winner non-renseigné pour le match: 1170152 set: {'id': 'preview_2531865_-4_1', 'winnerId': None, 'displayScore': None, 'slots': [{'id': 'preview_2531865_-4_1-0', 'entrant': None}, {'id': 'preview_2531865_-4_1-1', 'entrant': None}], 'games': None}\n",
      "Winner non-renseigné pour le match: 1170152 set: {'id': 'preview_2531865_-4_1', 'winnerId': None, 'displayScore': None, 'slots': [{'id': 'preview_2531865_-4_1-0', 'entrant': None}, {'id': 'preview_2531865_-4_1-1', 'entrant': None}], 'games': None}\n",
      "Winner non-renseigné pour le match: 1170152 set: {'id': 'preview_2531864_1_1', 'winnerId': None, 'displayScore': None, 'slots': [{'id': 'preview_2531864_1_1-0', 'entrant': {'id': 17094225, 'name': 'Flynn'}}, {'id': 'preview_2531864_1_1-1', 'entrant': {'id': 17099029, 'name': 'KSO | Tigno'}}], 'games': None}\n",
      "Winner non-renseigné pour le match: 1170152 set: {'id': 'preview_2531864_1_1', 'winnerId': None, 'displayScore': None, 'slots': [{'id': 'preview_2531864_1_1-0', 'entrant': {'id': 17094225, 'name': 'Flynn'}}, {'id': 'preview_2531864_1_1-1', 'entrant': {'id': 17099029, 'name': 'KSO | Tigno'}}], 'games': None}\n",
      "Winner non-renseigné pour le match: 1170152 set: {'id': 'preview_2531865_2_0', 'winnerId': None, 'displayScore': None, 'slots': [{'id': 'preview_2531865_2_0-0', 'entrant': None}, {'id': 'preview_2531865_2_0-1', 'entrant': None}], 'games': None}\n",
      "Winner non-renseigné pour le match: 1170152 set: {'id': 'preview_2531865_2_0', 'winnerId': None, 'displayScore': None, 'slots': [{'id': 'preview_2531865_2_0-0', 'entrant': None}, {'id': 'preview_2531865_2_0-1', 'entrant': None}], 'games': None}\n",
      "Winner non-renseigné pour le match: 1170152 set: {'id': 'preview_2531864_1_2', 'winnerId': None, 'displayScore': None, 'slots': [{'id': 'preview_2531864_1_2-0', 'entrant': {'id': 17093339, 'name': 'BaL | Grenouille Gaming'}}, {'id': 'preview_2531864_1_2-1', 'entrant': {'id': 17101796, 'name': 'OX | | Freesbi'}}], 'games': None}\n",
      "Winner non-renseigné pour le match: 1170152 set: {'id': 'preview_2531864_1_2', 'winnerId': None, 'displayScore': None, 'slots': [{'id': 'preview_2531864_1_2-0', 'entrant': {'id': 17093339, 'name': 'BaL | Grenouille Gaming'}}, {'id': 'preview_2531864_1_2-1', 'entrant': {'id': 17101796, 'name': 'OX | | Freesbi'}}], 'games': None}\n",
      "Winner non-renseigné pour le match: 1170152 set: {'id': 'preview_2531865_2_1', 'winnerId': None, 'displayScore': None, 'slots': [{'id': 'preview_2531865_2_1-0', 'entrant': None}, {'id': 'preview_2531865_2_1-1', 'entrant': None}], 'games': None}\n",
      "Winner non-renseigné pour le match: 1170152 set: {'id': 'preview_2531865_2_1', 'winnerId': None, 'displayScore': None, 'slots': [{'id': 'preview_2531865_2_1-0', 'entrant': None}, {'id': 'preview_2531865_2_1-1', 'entrant': None}], 'games': None}\n",
      "Winner non-renseigné pour le match: 1170152 set: {'id': 'preview_2531864_1_3', 'winnerId': None, 'displayScore': None, 'slots': [{'id': 'preview_2531864_1_3-0', 'entrant': {'id': 17093341, 'name': 'BaL | Enzo'}}, {'id': 'preview_2531864_1_3-1', 'entrant': {'id': 17100620, 'name': 'NdL | Threllox'}}], 'games': None}\n",
      "Winner non-renseigné pour le match: 1170152 set: {'id': 'preview_2531864_1_3', 'winnerId': None, 'displayScore': None, 'slots': [{'id': 'preview_2531864_1_3-0', 'entrant': {'id': 17093341, 'name': 'BaL | Enzo'}}, {'id': 'preview_2531864_1_3-1', 'entrant': {'id': 17100620, 'name': 'NdL | Threllox'}}], 'games': None}\n",
      "Winner non-renseigné pour le match: 1170152 set: {'id': 'preview_2531865_-5_0', 'winnerId': None, 'displayScore': None, 'slots': [{'id': 'preview_2531865_-5_0-0', 'entrant': None}, {'id': 'preview_2531865_-5_0-1', 'entrant': None}], 'games': None}\n",
      "Winner non-renseigné pour le match: 1170152 set: {'id': 'preview_2531865_-5_0', 'winnerId': None, 'displayScore': None, 'slots': [{'id': 'preview_2531865_-5_0-0', 'entrant': None}, {'id': 'preview_2531865_-5_0-1', 'entrant': None}], 'games': None}\n",
      "Winner non-renseigné pour le match: 1170152 set: {'id': 'preview_2531865_-6_0', 'winnerId': None, 'displayScore': None, 'slots': [{'id': 'preview_2531865_-6_0-0', 'entrant': None}, {'id': 'preview_2531865_-6_0-1', 'entrant': None}], 'games': None}\n",
      "Winner non-renseigné pour le match: 1170152 set: {'id': 'preview_2531865_-6_0', 'winnerId': None, 'displayScore': None, 'slots': [{'id': 'preview_2531865_-6_0-0', 'entrant': None}, {'id': 'preview_2531865_-6_0-1', 'entrant': None}], 'games': None}\n",
      "Winner non-renseigné pour le match: 1170152 set: {'id': 'preview_2531865_3_0', 'winnerId': None, 'displayScore': None, 'slots': [{'id': 'preview_2531865_3_0-0', 'entrant': None}, {'id': 'preview_2531865_3_0-1', 'entrant': None}], 'games': None}\n",
      "Winner non-renseigné pour le match: 1170152 set: {'id': 'preview_2531865_3_0', 'winnerId': None, 'displayScore': None, 'slots': [{'id': 'preview_2531865_3_0-0', 'entrant': None}, {'id': 'preview_2531865_3_0-1', 'entrant': None}], 'games': None}\n",
      "Winner non-renseigné pour le match: 1170152 set: {'id': 'preview_2531865_4_0', 'winnerId': None, 'displayScore': None, 'slots': [{'id': 'preview_2531865_4_0-0', 'entrant': None}, {'id': 'preview_2531865_4_0-1', 'entrant': None}], 'games': None}\n",
      "Winner non-renseigné pour le match: 1170152 set: {'id': 'preview_2531865_4_0', 'winnerId': None, 'displayScore': None, 'slots': [{'id': 'preview_2531865_4_0-0', 'entrant': None}, {'id': 'preview_2531865_4_0-1', 'entrant': None}], 'games': None}\n",
      "Winner non-renseigné pour le match: 1170152 set: {'id': 'preview_2531865_4_1', 'winnerId': None, 'displayScore': None, 'slots': [{'id': 'preview_2531865_4_1-0', 'entrant': None}, {'id': 'preview_2531865_4_1-1', 'entrant': None}], 'games': None}\n",
      "Winner non-renseigné pour le match: 1170152 set: {'id': 'preview_2531865_4_1', 'winnerId': None, 'displayScore': None, 'slots': [{'id': 'preview_2531865_4_1-0', 'entrant': None}, {'id': 'preview_2531865_4_1-1', 'entrant': None}], 'games': None}\n",
      "\n",
      "Nombre total de sets joués: 2848\n",
      "\n",
      "601 upsets en 2848 sets (21.10252808988764%)\n",
      "\n"
     ]
    },
    {
     "data": {
      "text/plain": [
       "601"
      ]
     },
     "execution_count": 87,
     "metadata": {},
     "output_type": "execute_result"
    }
   ],
   "source": [
    "####################################\n",
    "###           ANALYSES          ####\n",
    "####################################\n",
    "# print_tournaments(singles)\n",
    "# taille_commu(10, singles, tournament_data)\n",
    "# count_sets(singles, tournament_data)\n",
    "# count_games(singles, tournament_data)\n",
    "count_upsets(singles, tournament_data, False)\n",
    "\n",
    "# max_tournois(500,singles, tournament_data)\n",
    "# max_top_x(30, 8, singles, tournament_data)\n",
    "\n",
    "# best_performances(50, singles, tournament_data)\n",
    "# worst_performances(20, singles, tournament_data)\n",
    "\n",
    "# affrontements_freq(50, singles, tournament_data)\n",
    "# bracket_demon(100, 5, singles, tournament_data)\n",
    "# get_setcount_players('Bizaute', 'Kajou', singles, tournament_data)\n",
    "# get_setcount_prefix(\"CTS\",\"BxH\", singles, tournament_data)\n",
    "\n",
    "# most_regu(10, 5, singles, tournament_data)\n",
    "# least_regu(50, 5, singles, tournament_data)\n",
    "# surseed_sousseed(10, 5, singles, tournament_data)\n",
    "\n",
    "# biggest_upsets(50, singles, tournament_data)\n",
    "# max_upsets_realises(20, singles, tournament_data)\n",
    "# max_upsets_subis(20, singles, tournament_data)\n",
    "# max_upsets_subis_par_defaite(20, singles, tournament_data)\n",
    "# min_upsets_subis(500, singles, tournament_data)\n",
    "# min_upsets_subis_par_tournoi(500, singles, tournament_data)\n",
    "\n",
    "# character_data = get_character_usage(singles, tournament_data).sort_values(by=['Games'], ascending=False)\n",
    "# player_most_characters(singles, tournament_data)\n",
    "\n",
    "# player_history(\"Erakos\", singles, tournament_data)\n",
    "# top_seed(32, singles, tournament_data)\n",
    "# top_standings(32, singles, tournament_data)\n",
    "\n",
    "# placements=get_player_placement(\"El Tépe\", singles, tournament_data)\n",
    "# n=0\n",
    "# for event in placements:\n",
    "#   if placements[event] == 9:\n",
    "#     n+=1\n",
    "# print(\"El Tépe a fini 9ème\",n,\"fois en\", len(placements),\"participations (\",(n/len(placements))*100,\"%)\")"
   ]
  },
  {
   "cell_type": "code",
   "execution_count": 16,
   "metadata": {},
   "outputs": [
    {
     "name": "stdout",
     "output_type": "stream",
     "text": [
      "7449 games played\n"
     ]
    },
    {
     "data": {
      "text/html": [
       "<div>\n",
       "<style scoped>\n",
       "    .dataframe tbody tr th:only-of-type {\n",
       "        vertical-align: middle;\n",
       "    }\n",
       "\n",
       "    .dataframe tbody tr th {\n",
       "        vertical-align: top;\n",
       "    }\n",
       "\n",
       "    .dataframe thead th {\n",
       "        text-align: right;\n",
       "    }\n",
       "</style>\n",
       "<table border=\"1\" class=\"dataframe\">\n",
       "  <thead>\n",
       "    <tr style=\"text-align: right;\">\n",
       "      <th></th>\n",
       "      <th>Games</th>\n",
       "      <th>Usage rate</th>\n",
       "      <th>Wins</th>\n",
       "      <th>Winrate</th>\n",
       "    </tr>\n",
       "    <tr>\n",
       "      <th>Character</th>\n",
       "      <th></th>\n",
       "      <th></th>\n",
       "      <th></th>\n",
       "      <th></th>\n",
       "    </tr>\n",
       "  </thead>\n",
       "  <tbody>\n",
       "    <tr>\n",
       "      <th>Total</th>\n",
       "      <td>14884.0</td>\n",
       "      <td>0.999060</td>\n",
       "      <td>7442.0</td>\n",
       "      <td>41.041983</td>\n",
       "    </tr>\n",
       "    <tr>\n",
       "      <th>Jigglypuff</th>\n",
       "      <td>774.0</td>\n",
       "      <td>0.051953</td>\n",
       "      <td>385.0</td>\n",
       "      <td>0.497416</td>\n",
       "    </tr>\n",
       "    <tr>\n",
       "      <th>Wario</th>\n",
       "      <td>772.0</td>\n",
       "      <td>0.051819</td>\n",
       "      <td>440.0</td>\n",
       "      <td>0.569948</td>\n",
       "    </tr>\n",
       "    <tr>\n",
       "      <th>Palutena</th>\n",
       "      <td>540.0</td>\n",
       "      <td>0.036246</td>\n",
       "      <td>277.0</td>\n",
       "      <td>0.512963</td>\n",
       "    </tr>\n",
       "    <tr>\n",
       "      <th>Zero Suit Samus</th>\n",
       "      <td>492.0</td>\n",
       "      <td>0.033025</td>\n",
       "      <td>259.0</td>\n",
       "      <td>0.526423</td>\n",
       "    </tr>\n",
       "    <tr>\n",
       "      <th>...</th>\n",
       "      <td>...</td>\n",
       "      <td>...</td>\n",
       "      <td>...</td>\n",
       "      <td>...</td>\n",
       "    </tr>\n",
       "    <tr>\n",
       "      <th>Bayonetta</th>\n",
       "      <td>9.0</td>\n",
       "      <td>0.000604</td>\n",
       "      <td>3.0</td>\n",
       "      <td>0.333333</td>\n",
       "    </tr>\n",
       "    <tr>\n",
       "      <th>Snake</th>\n",
       "      <td>4.0</td>\n",
       "      <td>0.000268</td>\n",
       "      <td>1.0</td>\n",
       "      <td>0.250000</td>\n",
       "    </tr>\n",
       "    <tr>\n",
       "      <th>Mii Gunner</th>\n",
       "      <td>4.0</td>\n",
       "      <td>0.000268</td>\n",
       "      <td>4.0</td>\n",
       "      <td>1.000000</td>\n",
       "    </tr>\n",
       "    <tr>\n",
       "      <th>Daisy</th>\n",
       "      <td>3.0</td>\n",
       "      <td>0.000201</td>\n",
       "      <td>0.0</td>\n",
       "      <td>0.000000</td>\n",
       "    </tr>\n",
       "    <tr>\n",
       "      <th>Mega Man</th>\n",
       "      <td>2.0</td>\n",
       "      <td>0.000134</td>\n",
       "      <td>1.0</td>\n",
       "      <td>0.500000</td>\n",
       "    </tr>\n",
       "  </tbody>\n",
       "</table>\n",
       "<p>88 rows × 4 columns</p>\n",
       "</div>"
      ],
      "text/plain": [
       "                   Games  Usage rate    Wins    Winrate\n",
       "Character                                              \n",
       "Total            14884.0    0.999060  7442.0  41.041983\n",
       "Jigglypuff         774.0    0.051953   385.0   0.497416\n",
       "Wario              772.0    0.051819   440.0   0.569948\n",
       "Palutena           540.0    0.036246   277.0   0.512963\n",
       "Zero Suit Samus    492.0    0.033025   259.0   0.526423\n",
       "...                  ...         ...     ...        ...\n",
       "Bayonetta            9.0    0.000604     3.0   0.333333\n",
       "Snake                4.0    0.000268     1.0   0.250000\n",
       "Mii Gunner           4.0    0.000268     4.0   1.000000\n",
       "Daisy                3.0    0.000201     0.0   0.000000\n",
       "Mega Man             2.0    0.000134     1.0   0.500000\n",
       "\n",
       "[88 rows x 4 columns]"
      ]
     },
     "execution_count": 16,
     "metadata": {},
     "output_type": "execute_result"
    }
   ],
   "source": [
    "get_character_usage(singles, tournament_data).sort_values(by=['Games'], ascending=False)"
   ]
  },
  {
   "cell_type": "code",
   "execution_count": null,
   "metadata": {},
   "outputs": [
    {
     "name": "stdout",
     "output_type": "stream",
     "text": [
      "7449 games played\n"
     ]
    }
   ],
   "source": [
    "# get_character_usage(singles, tournament_data).sort_values(by=['Games'], ascending=False).to_csv"
   ]
  },
  {
   "cell_type": "code",
   "execution_count": 72,
   "metadata": {},
   "outputs": [
    {
     "name": "stderr",
     "output_type": "stream",
     "text": [
      "C:\\Users\\Florian\\AppData\\Local\\Temp\\ipykernel_20348\\403780149.py:3: SettingWithCopyWarning: \n",
      "A value is trying to be set on a copy of a slice from a DataFrame\n",
      "\n",
      "See the caveats in the documentation: https://pandas.pydata.org/pandas-docs/stable/user_guide/indexing.html#returning-a-view-versus-a-copy\n",
      "  test.loc[len(test)] = [\"Autres\",0,0,0,0]\n"
     ]
    }
   ],
   "source": [
    "liste = [\"Autres\",0,0,0,0]\n",
    "\n",
    "test.loc[len(test)] = [\"Autres\",0,0,0,0]"
   ]
  },
  {
   "cell_type": "code",
   "execution_count": 77,
   "metadata": {},
   "outputs": [],
   "source": [
    "def summarize_character_data(character_data, threshold):\n",
    "    autre = [\"Autres\",0,0,0,0]\n",
    "    for i in character_data.iterrows():\n",
    "        if i[1][2]<threshold:\n",
    "            autre[1]+=i[1][1]\n",
    "            autre[2]+=i[1][2]\n",
    "            autre[3]+=i[1][3]\n",
    "            autre[4] = autre[3]/autre[1]\n",
    "    merged_data = character_data[character_data['Usage rate'] > threshold]\n",
    "    merged_data.loc[len(merged_data)] = autre\n",
    "    return(merged_data)"
   ]
  },
  {
   "cell_type": "code",
   "execution_count": null,
   "metadata": {},
   "outputs": [
    {
     "name": "stderr",
     "output_type": "stream",
     "text": [
      "C:\\Users\\Florian\\AppData\\Local\\Temp\\ipykernel_20348\\3078994801.py:4: FutureWarning: Series.__getitem__ treating keys as positions is deprecated. In a future version, integer keys will always be treated as labels (consistent with DataFrame behavior). To access a value by position, use `ser.iloc[pos]`\n",
      "  if i[1][2]<threshold:\n",
      "C:\\Users\\Florian\\AppData\\Local\\Temp\\ipykernel_20348\\3078994801.py:5: FutureWarning: Series.__getitem__ treating keys as positions is deprecated. In a future version, integer keys will always be treated as labels (consistent with DataFrame behavior). To access a value by position, use `ser.iloc[pos]`\n",
      "  autre[1]+=i[1][1]\n",
      "C:\\Users\\Florian\\AppData\\Local\\Temp\\ipykernel_20348\\3078994801.py:6: FutureWarning: Series.__getitem__ treating keys as positions is deprecated. In a future version, integer keys will always be treated as labels (consistent with DataFrame behavior). To access a value by position, use `ser.iloc[pos]`\n",
      "  autre[2]+=i[1][2]\n",
      "C:\\Users\\Florian\\AppData\\Local\\Temp\\ipykernel_20348\\3078994801.py:7: FutureWarning: Series.__getitem__ treating keys as positions is deprecated. In a future version, integer keys will always be treated as labels (consistent with DataFrame behavior). To access a value by position, use `ser.iloc[pos]`\n",
      "  autre[3]+=i[1][3]\n"
     ]
    },
    {
     "data": {
      "image/png": "[encoded data removed]",
      "text/plain": [
       "<Figure size 640x480 with 1 Axes>"
      ]
     },
     "metadata": {},
     "output_type": "display_data"
    }
   ],
   "source": [
    "# Plot character data\n",
    "\n",
    "import matplotlib.pyplot as plt\n",
    "import pandas as pd\n",
    "\n",
    "df =  pd.read_csv('character_data.csv').drop(0)\n",
    "df = summarize_character_data(df, 0.02)\n",
    "characters = df[\"Character\"]\n",
    "games = df[\"Games\"]  \n",
    "plt.pie(games, labels=characters,\n",
    "autopct='%1.1f%%', startangle=140)\n",
    "plt.title(\"Character pick rate\")\n",
    "plt.show()"
   ]
  }
 ],
 "metadata": {
  "kernelspec": {
   "display_name": "Python 3",
   "language": "python",
   "name": "python3"
  },
  "language_info": {
   "codemirror_mode": {
    "name": "ipython",
    "version": 3
   },
   "file_extension": ".py",
   "mimetype": "text/x-python",
   "name": "python",
   "nbconvert_exporter": "python",
   "pygments_lexer": "ipython3",
   "version": "3.12.4"
  },
  "orig_nbformat": 4,
  "vscode": {
   "interpreter": {
    "hash": "be4072d575eed7a07c783e8a323bc1238403c94952087eed84a217d71cd09d2a"
   }
  }
 },
 "nbformat": 4,
 "nbformat_minor": 2
}
