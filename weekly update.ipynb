{
 "cells": [
  {
   "cell_type": "code",
   "execution_count": 1,
   "metadata": {},
   "outputs": [
    {
     "name": "stdout",
     "output_type": "stream",
     "text": [
      "smash-downtown-34-smash-lez-x-burnout\n",
      "smash-downtown-single\n",
      "\n",
      "the-roll-inn-28\n",
      "the-roll-inn-single\n",
      "\n",
      "miss-tech-62\n",
      "miss-tech-single\n",
      "\n",
      "miss-tech-61\n",
      "miss-tech-single\n",
      "\n",
      "smash-downtown-33-smash-lez-x-burnout\n",
      "smash-downtown-single\n",
      "\n",
      "the-roll-inn-26\n",
      "the-roll-inn-single\n",
      "\n",
      "miss-tech-60\n",
      "miss-tech-single\n",
      "\n",
      "the-roll-inn-25\n",
      "the-roll-inn-single\n",
      "\n",
      "yggdrasil-3-1\n",
      "yggdrasil-3\n",
      "\n"
     ]
    }
   ],
   "source": [
    "nb_sem = 1\n",
    "\n",
    "from functions import *\n",
    "from variables import *\n",
    "from datetime import *\n",
    "\n",
    "event_ids={}\n",
    "\n",
    "params_get_events={\n",
    "  \"cCode\": \"FR\", \n",
    "  \"distance\": \"10km\", \n",
    "  \"city\": ville_coord[\"Montpellier\"],\n",
    "  \"gameId\": game_Ids[\"Super Smash Bros. Ultimate\"],\n",
    "  \"after\": int((datetime.now() - timedelta(weeks=nb_sem)).timestamp()),\n",
    "  \"before\":  int(datetime.now().timestamp()),\n",
    "  \"perPage\": 500, \n",
    "  \"page\": 1\n",
    "}\n",
    "\n",
    "events = requests.post(url, headers=headers, json={'query': get_all_events_location, 'variables': params_get_events}).json()\n",
    "\n",
    "for tournament in events['data']['tournaments']['nodes']:\n",
    "    for event in tournament['events']:\n",
    "        if (is_singles(event['name'])):\n",
    "            event_ids[event['id']] = [tournament['slug'], event['slug']]\n",
    "            print(event_ids[event['id']][0].split(\"/\")[-1])\n",
    "            print(event_ids[event['id']][1].split(\"/\")[-1])\n",
    "            print()\n"
   ]
  }
 ],
 "metadata": {
  "kernelspec": {
   "display_name": "Python 3",
   "language": "python",
   "name": "python3"
  },
  "language_info": {
   "codemirror_mode": {
    "name": "ipython",
    "version": 3
   },
   "file_extension": ".py",
   "mimetype": "text/x-python",
   "name": "python",
   "nbconvert_exporter": "python",
   "pygments_lexer": "ipython3",
   "version": "3.12.2"
  }
 },
 "nbformat": 4,
 "nbformat_minor": 2
}
